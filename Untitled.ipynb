{
 "cells": [
  {
   "cell_type": "code",
   "execution_count": null,
   "id": "567271a2-148d-4e84-bf4f-5513edcf546c",
   "metadata": {},
   "outputs": [],
   "source": [
    "import gym\n",
    "import numpy as np\n",
    "import manipulation_main\n",
    "from manipulation_main.common.io_utils import load_yaml\n",
    "from gym.spaces import Box\n",
    "\n",
    "config = load_yaml('config/gripper_grasp.yaml')\n",
    "\n",
    "# action_space = Box(low=-1, high=1, shape=(5,), dtype=np.float64)\n",
    "action_space = [0, 0, 1, 0, 0]\n",
    "\n",
    "env = gym.make('gripper-env-v0', config=config)\n",
    "\n",
    "for _ in range(1000):\n",
    "    # random_action = action_space.sample()\n",
    "    env.step(action_space)"
   ]
  }
 ],
 "metadata": {
  "kernelspec": {
   "display_name": "grasp_env",
   "language": "python",
   "name": "grasp_env"
  },
  "language_info": {
   "codemirror_mode": {
    "name": "ipython",
    "version": 3
   },
   "file_extension": ".py",
   "mimetype": "text/x-python",
   "name": "python",
   "nbconvert_exporter": "python",
   "pygments_lexer": "ipython3",
   "version": "3.6.13"
  }
 },
 "nbformat": 4,
 "nbformat_minor": 5
}
