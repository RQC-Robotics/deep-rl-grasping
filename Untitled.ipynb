{
 "cells": [
  {
   "cell_type": "code",
   "execution_count": 17,
   "id": "4b97d3ca-cb38-4eac-8c75-61e374dcc9be",
   "metadata": {},
   "outputs": [
    {
     "name": "stderr",
     "output_type": "stream",
     "text": [
      "/home/akbar/deep-rl-grasping/manipulation_main/common/io_utils.py:41: YAMLLoadWarning: calling yaml.load() without Loader=... is deprecated, as the default Loader is unsafe. Please read https://msg.pyyaml.org/load for full details.\n",
      "  config = yaml.load(f)\n"
     ]
    },
    {
     "name": "stdout",
     "output_type": "stream",
     "text": [
      "dataset random_urdfs\n"
     ]
    },
    {
     "data": {
      "text/plain": [
       "0.3873407453829763"
      ]
     },
     "execution_count": 17,
     "metadata": {},
     "output_type": "execute_result"
    }
   ],
   "source": [
    "import numpy as np\n",
    "import gym\n",
    "import manipulation_main\n",
    "\n",
    "CONFIG_CONT_SIMP = 'tests_gripper/config/test_simplified_cont.yaml'\n",
    "env = gym.make('gripper-env-v0', config=CONFIG_CONT_SIMP)\n",
    "env.reset()\n",
    "env.get_pose()[0][2]"
   ]
  },
  {
   "cell_type": "code",
   "execution_count": 20,
   "id": "4382bc2f-b1d4-42de-9446-8cb104049398",
   "metadata": {},
   "outputs": [
    {
     "name": "stdout",
     "output_type": "stream",
     "text": [
      "Status.RUNNING\n",
      "False\n",
      "0.12697993266115482\n"
     ]
    }
   ],
   "source": [
    "env.reset()\n",
    "zero_action = np.zeros_like(env.action_space.sample())\n",
    "_, _, done, _ = env.step(zero_action)\n",
    "print (env.status)\n",
    "print (done)\n",
    "print (env.get_pose()[0][2])"
   ]
  }
 ],
 "metadata": {
  "kernelspec": {
   "display_name": "grasp_env",
   "language": "python",
   "name": "grasp_env"
  },
  "language_info": {
   "codemirror_mode": {
    "name": "ipython",
    "version": 3
   },
   "file_extension": ".py",
   "mimetype": "text/x-python",
   "name": "python",
   "nbconvert_exporter": "python",
   "pygments_lexer": "ipython3",
   "version": "3.6.13"
  }
 },
 "nbformat": 4,
 "nbformat_minor": 5
}
